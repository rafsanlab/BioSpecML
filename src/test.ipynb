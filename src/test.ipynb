{
 "cells": [
  {
   "cell_type": "markdown",
   "metadata": {},
   "source": [
    "# Testing biospecml functions\n"
   ]
  },
  {
   "cell_type": "code",
   "execution_count": 36,
   "metadata": {},
   "outputs": [
    {
     "name": "stdout",
     "output_type": "stream",
     "text": [
      "[6 5 6 4 7 8 3 2 1 4]\n",
      "[4 5 8 6 3 5 6 3 4 5]\n"
     ]
    },
    {
     "data": {
      "text/plain": [
       "{'f1': 0.0625, 'accuracy': 0.1}"
      ]
     },
     "execution_count": 36,
     "metadata": {},
     "output_type": "execute_result"
    }
   ],
   "source": [
    "\n",
    "# testing import functions\n",
    "\n",
    "from biospecml.ml.ml import calc_metric_prediction\n",
    "import numpy as np\n",
    "\n",
    "arr1 = np.random.randint(1, 10, (10))\n",
    "arr2 = np.random.randint(1, 10, (10))\n",
    "\n",
    "print(arr1)\n",
    "print(arr2)\n",
    "\n",
    "metrics = calc_metric_prediction(arr1, arr2, metrics_list=['f1', 'accuracy'])\n",
    "metrics\n"
   ]
  }
 ],
 "metadata": {
  "kernelspec": {
   "display_name": "base",
   "language": "python",
   "name": "python3"
  },
  "language_info": {
   "codemirror_mode": {
    "name": "ipython",
    "version": 3
   },
   "file_extension": ".py",
   "mimetype": "text/x-python",
   "name": "python",
   "nbconvert_exporter": "python",
   "pygments_lexer": "ipython3",
   "version": "3.10.9"
  }
 },
 "nbformat": 4,
 "nbformat_minor": 2
}
